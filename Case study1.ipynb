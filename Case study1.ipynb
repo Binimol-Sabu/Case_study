{
 "cells": [
  {
   "cell_type": "code",
   "execution_count": 1,
   "id": "294de697-b314-44de-9bdc-5e82c0f1eb57",
   "metadata": {},
   "outputs": [
    {
     "name": "stdin",
     "output_type": "stream",
     "text": [
      "Enter the name of the item :  apple\n",
      "Enter quantity for apple:  5\n",
      "Enter the name of the item :  banana\n",
      "Enter quantity for banana:  3\n",
      "Enter the name of the item :  orange\n",
      "Enter quantity for orange:  2\n",
      "Enter the name of the item :  milk\n",
      "Enter quantity for milk:  1\n",
      "Enter the name of the item :  done\n"
     ]
    },
    {
     "name": "stdout",
     "output_type": "stream",
     "text": [
      "Total bill is: 32\n"
     ]
    }
   ],
   "source": [
    "#Grocery store bill calculator\n",
    "\n",
    "# store the price of items in a dictonary\n",
    "\n",
    "prices = {\"apple\": 20,\"banana\": 10,\"orange\": 20,\"milk\":32,\"bread\":25,\"book\":15}\n",
    "\n",
    "for name,price in prices.items():\n",
    "    name = input(\"Enter the name of the item : \")\n",
    "    if name == \"done\":\n",
    "        break\n",
    "\n",
    "    quantity = input(f\"Enter quantity for {name}: \")\n",
    "    quantity=int(quantity)\n",
    "\n",
    "    total_bill=0\n",
    "    total_bill += quantity * prices[name]\n",
    "\n",
    "print(f\"Total bill is: {total_bill}\")"
   ]
  },
  {
   "cell_type": "code",
   "execution_count": 2,
   "id": "2b5f1910-4ebd-4a93-82bb-39a6cd68d6cb",
   "metadata": {},
   "outputs": [
    {
     "name": "stdout",
     "output_type": "stream",
     "text": [
      "average mark is: 55.6\n",
      "Grade: C\n"
     ]
    }
   ],
   "source": [
    "# Student grade calculator\n",
    "\n",
    "#1.store marks of 5 subject in a list\n",
    "\n",
    "marks=[50,41,86,64,37]\n",
    "marks\n",
    "# calculate average mark\n",
    "\n",
    "avg=sum(marks)/len(marks)\n",
    "print(f\"average mark is: {avg}\")\n",
    "# determine the grade\n",
    "\n",
    "if avg>=90:\n",
    "  print(\"Grade :A\")\n",
    "\n",
    "elif avg>=70:\n",
    "  print(\"Grade:B\")\n",
    "\n",
    "elif avg>=50:\n",
    "  print(\"Grade: C\")\n",
    "\n",
    "else:\n",
    "  print(\"Grade:F\")\n"
   ]
  },
  {
   "cell_type": "code",
   "execution_count": 3,
   "id": "a790b82c-d034-47e0-b9ee-1835a45dc70d",
   "metadata": {},
   "outputs": [
    {
     "name": "stdout",
     "output_type": "stream",
     "text": [
      "Available seats: [1, 2, 3, 4, 5, 6, 7, 8, 9, 10, 11, 12, 13, 14, 15, 16, 17, 18, 19, 20]\n"
     ]
    },
    {
     "name": "stdin",
     "output_type": "stream",
     "text": [
      "Enter the seat number :  1\n"
     ]
    },
    {
     "name": "stdout",
     "output_type": "stream",
     "text": [
      "Seat 1  booked successfully.\n",
      "Available seats: [2, 3, 4, 5, 6, 7, 8, 9, 10, 11, 12, 13, 14, 15, 16, 17, 18, 19, 20]\n"
     ]
    },
    {
     "name": "stdin",
     "output_type": "stream",
     "text": [
      "Enter the seat number :  5\n"
     ]
    },
    {
     "name": "stdout",
     "output_type": "stream",
     "text": [
      "Seat 5  booked successfully.\n",
      "Available seats: [2, 3, 4, 6, 7, 8, 9, 10, 11, 12, 13, 14, 15, 16, 17, 18, 19, 20]\n"
     ]
    },
    {
     "name": "stdin",
     "output_type": "stream",
     "text": [
      "Enter the seat number :  2\n"
     ]
    },
    {
     "name": "stdout",
     "output_type": "stream",
     "text": [
      "Seat 2  booked successfully.\n",
      "Available seats: [3, 4, 6, 7, 8, 9, 10, 11, 12, 13, 14, 15, 16, 17, 18, 19, 20]\n"
     ]
    },
    {
     "name": "stdin",
     "output_type": "stream",
     "text": [
      "Enter the seat number :  9\n"
     ]
    },
    {
     "name": "stdout",
     "output_type": "stream",
     "text": [
      "Seat 9  booked successfully.\n",
      "Available seats: [3, 4, 6, 7, 8, 10, 11, 12, 13, 14, 15, 16, 17, 18, 19, 20]\n"
     ]
    },
    {
     "name": "stdin",
     "output_type": "stream",
     "text": [
      "Enter the seat number :  1\n"
     ]
    },
    {
     "name": "stdout",
     "output_type": "stream",
     "text": [
      "Seat 1 is already booked.\n"
     ]
    },
    {
     "name": "stdin",
     "output_type": "stream",
     "text": [
      "Enter the seat number :  15\n"
     ]
    },
    {
     "name": "stdout",
     "output_type": "stream",
     "text": [
      "Seat 15  booked successfully.\n",
      "Available seats: [3, 4, 6, 7, 8, 10, 11, 12, 13, 14, 16, 17, 18, 19, 20]\n"
     ]
    },
    {
     "name": "stdin",
     "output_type": "stream",
     "text": [
      "Enter the seat number :  done\n"
     ]
    }
   ],
   "source": [
    "#A movie theatre wants to automate ticket booking for customers\n",
    "# Use list to store available seats\n",
    "\n",
    "seats = [1, 2, 3, 4, 5, 6, 7, 8, 9, 10, 11, 12, 13, 14, 15, 16, 17, 18, 19, 20]\n",
    "\n",
    "print(f\"Available seats: {seats}\")\n",
    "\n",
    "while True:\n",
    "    seat = input(\"Enter the seat number : \")\n",
    "    if seat == \"done\":\n",
    "        break\n",
    "    if seat.isdigit():\n",
    "        seat = int(seat)\n",
    "        if seat in seats:\n",
    "\n",
    "            print(f\"Seat {seat}  booked successfully.\")\n",
    "            seats.remove(seat)\n",
    "            print(f\"Available seats: {seats}\")\n",
    "        else:\n",
    "            print(f\"Seat {seat} is already booked.\")\n"
   ]
  },
  {
   "cell_type": "code",
   "execution_count": null,
   "id": "b70aada0-c86b-4038-a106-44f3be27f5a9",
   "metadata": {},
   "outputs": [],
   "source": []
  }
 ],
 "metadata": {
  "kernelspec": {
   "display_name": "Python 3 (ipykernel)",
   "language": "python",
   "name": "python3"
  },
  "language_info": {
   "codemirror_mode": {
    "name": "ipython",
    "version": 3
   },
   "file_extension": ".py",
   "mimetype": "text/x-python",
   "name": "python",
   "nbconvert_exporter": "python",
   "pygments_lexer": "ipython3",
   "version": "3.12.6"
  }
 },
 "nbformat": 4,
 "nbformat_minor": 5
}
